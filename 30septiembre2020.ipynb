{
  "nbformat": 4,
  "nbformat_minor": 0,
  "metadata": {
    "colab": {
      "name": "30septiembre2020.ipynb",
      "provenance": [],
      "authorship_tag": "ABX9TyMBfZtAzmNwCTfDcRpsreEW",
      "include_colab_link": true
    },
    "kernelspec": {
      "name": "python3",
      "display_name": "Python 3"
    }
  },
  "cells": [
    {
      "cell_type": "markdown",
      "metadata": {
        "id": "view-in-github",
        "colab_type": "text"
      },
      "source": [
        "<a href=\"https://colab.research.google.com/github/brus2099/daa_2021_1/blob/master/30septiembre2020.ipynb\" target=\"_parent\"><img src=\"https://colab.research.google.com/assets/colab-badge.svg\" alt=\"Open In Colab\"/></a>"
      ]
    },
    {
      "cell_type": "code",
      "metadata": {
        "id": "ErdYbBgISIcW",
        "outputId": "9ece1219-d8f9-4885-9f00-04e67686b7da",
        "colab": {
          "base_uri": "https://localhost:8080/",
          "height": 277
        }
      },
      "source": [
        "for i in range(24):\n",
        "  hour_ev = str(i)\n",
        "  if i<10:\n",
        "    hour_ev = str(\"0\"+str(i))\n",
        "  for j in range(60):\n",
        "    min_ev = str(j)\n",
        "    if j<10:\n",
        "      min_ev = str(\"0\"+str(j))\n",
        "    if hour_ev[0]==min_ev[1] and hour_ev[1]==min_ev[0]:\n",
        "      print(\"Palindrome!!: \", hour_ev, \":\", min_ev) \n",
        "\n",
        "# Follow me on Github: @brus2099"
      ],
      "execution_count": 1,
      "outputs": [
        {
          "output_type": "stream",
          "text": [
            "Palindrome!!:  00 : 00\n",
            "Palindrome!!:  01 : 10\n",
            "Palindrome!!:  02 : 20\n",
            "Palindrome!!:  03 : 30\n",
            "Palindrome!!:  04 : 40\n",
            "Palindrome!!:  05 : 50\n",
            "Palindrome!!:  10 : 01\n",
            "Palindrome!!:  11 : 11\n",
            "Palindrome!!:  12 : 21\n",
            "Palindrome!!:  13 : 31\n",
            "Palindrome!!:  14 : 41\n",
            "Palindrome!!:  15 : 51\n",
            "Palindrome!!:  20 : 02\n",
            "Palindrome!!:  21 : 12\n",
            "Palindrome!!:  22 : 22\n",
            "Palindrome!!:  23 : 32\n"
          ],
          "name": "stdout"
        }
      ]
    }
  ]
}