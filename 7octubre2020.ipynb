{
  "nbformat": 4,
  "nbformat_minor": 0,
  "metadata": {
    "colab": {
      "name": "7octubre2020.ipynb",
      "provenance": [],
      "authorship_tag": "ABX9TyOzVw0ejewPMSzb2PZ+CH5l",
      "include_colab_link": true
    },
    "kernelspec": {
      "name": "python3",
      "display_name": "Python 3"
    }
  },
  "cells": [
    {
      "cell_type": "markdown",
      "metadata": {
        "id": "view-in-github",
        "colab_type": "text"
      },
      "source": [
        "<a href=\"https://colab.research.google.com/github/brus2099/daa_2021_1/blob/master/7octubre2020.ipynb\" target=\"_parent\"><img src=\"https://colab.research.google.com/assets/colab-badge.svg\" alt=\"Open In Colab\"/></a>"
      ]
    },
    {
      "cell_type": "markdown",
      "metadata": {
        "id": "QeR9uQKxSu_L"
      },
      "source": [
        "#BUSQUEDA LINEAL\n",
        "\n",
        "Dado un conjunto de datos no ordenados, la busqueda lineal consiste en recorrer el conjunto de datos desde el inicio hasta el final, moviendose de uno en uno hasta encontrar el elemento o llegar al final del conjunto.\n",
        "\n",
        "```\n",
        "datos = [ 4, 18, 47, 2, 34, 14, 78, 12, 48, 21, 31, 19, 1, 3, 5 ]\n",
        "```\n",
        "\n",
        "#BUSQUEDA BINARIA\n",
        "\n",
        "Funciona sobre un conjunto de datos lineal ordenado.\n",
        "Consiste en dividir el conjunto en mitades y buscar en esa mitad. Si el mismo elemento buscado no esta en la mitad, preguntas si el elemento esta a la derecha o a la izq. Haces la lista igual a la mitad correspondiente y repites el proceso.\n",
        "\n",
        "L = [ 1, 2, 3, 4, 5, 12, 14, 18, 19, 21, 31, 34, 47, 48, 78 ]\n",
        "\n",
        "```\n",
        "DER = longitud(L) - 1\n",
        "IZQ = 0\n",
        "```\n",
        "\n",
        "Mid apuntara a la mitad del segmento de busqueda\n",
        "\n",
        "1. Hacer Der = longitud(L) - 1\n",
        "2. Hacer Izq = 0\n",
        "3. si Izq > Der significa que hay un error en los datos\n",
        "4. calcular Mid = int((Izq + Der) / 2)\n",
        "5. Mientras L(Mid) != buscando hacer\n",
        "6. \n",
        "\n"
      ]
    },
    {
      "cell_type": "code",
      "metadata": {
        "id": "ToEjBZO1SrKu",
        "outputId": "3086e6ca-0810-49d3-905c-cfa94f779c01",
        "colab": {
          "base_uri": "https://localhost:8080/"
        }
      },
      "source": [
        "\"\"\"\n",
        "Busqueda lineal\n",
        "-> regresa la posicion del elemento 'buscado' si se encuentra dentro de la lista\n",
        "-> regersa -1 si el elemento buscado no existe dentro de la lista.\n",
        "\"\"\"\n",
        "def lineal_search( L, searched ):\n",
        "\n",
        "  index = -1\n",
        "  count = 0\n",
        "\n",
        "  for i in range(len(L)):\n",
        "\n",
        "    count += 1\n",
        "    if L[i] == searched:\n",
        "      index = i\n",
        "      break\n",
        "\n",
        "  print('Comparisons: ', count)\n",
        "  return index    \n",
        "\n",
        "def main():\n",
        "  datos = [ 4, 18, 47, 2, 34, 14, 78, 12, 48, 21, 31, 19, 1, 3, 5 ]\n",
        "  dato = int(input('Which value?'))\n",
        "  res = lineal_search(datos, dato)\n",
        "  print('Value: ', res)\n",
        "\n",
        "  print('Busqueda lineal en un arreglo en una lista ordenada')\n",
        "  print('Lineal search in an array in an ordered list!!')\n",
        "  datos.sort()\n",
        "  print(datos)\n",
        "  res = lineal_search(datos, dato)\n",
        "  print('Value: ', res)\n",
        "\n",
        "main()\n"
      ],
      "execution_count": 6,
      "outputs": [
        {
          "output_type": "stream",
          "text": [
            "Which value?47\n",
            "Comparisons:  3\n",
            "Value:  2\n",
            "Busqueda lineal en un arreglo en una lista ordenada\n",
            "[1, 2, 3, 4, 5, 12, 14, 18, 19, 21, 31, 34, 47, 48, 78]\n",
            "Comparisons:  13\n",
            "Value:  12\n"
          ],
          "name": "stdout"
        }
      ]
    }
  ]
}