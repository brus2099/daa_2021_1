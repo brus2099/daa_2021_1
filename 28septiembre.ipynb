{
  "nbformat": 4,
  "nbformat_minor": 0,
  "metadata": {
    "colab": {
      "name": "28septiembre.ipynb",
      "provenance": [],
      "toc_visible": true,
      "authorship_tag": "ABX9TyMFKjv1iKHqmxWmXrGIrPRw",
      "include_colab_link": true
    },
    "kernelspec": {
      "name": "python3",
      "display_name": "Python 3"
    }
  },
  "cells": [
    {
      "cell_type": "markdown",
      "metadata": {
        "id": "view-in-github",
        "colab_type": "text"
      },
      "source": [
        "<a href=\"https://colab.research.google.com/github/brus2099/daa_2021_1/blob/master/28septiembre.ipynb\" target=\"_parent\"><img src=\"https://colab.research.google.com/assets/colab-badge.svg\" alt=\"Open In Colab\"/></a>"
      ]
    },
    {
      "cell_type": "markdown",
      "metadata": {
        "id": "WCSkJlWUCrfm"
      },
      "source": [
        "# Sección 1"
      ]
    },
    {
      "cell_type": "markdown",
      "metadata": {
        "id": "2H7hk-6JC0HV"
      },
      "source": [
        "En este archivo apenderemos a programar en Python con la herramienta de Google Colab. \n",
        "\n",
        "También aprenderemos a guardar los cambios en un repositorio Github."
      ]
    },
    {
      "cell_type": "markdown",
      "metadata": {
        "id": "HNNnKM65EjlR"
      },
      "source": [
        "*Letra italica*\n",
        "\n",
        "**Example test**\n",
        "\n",
        "\n",
        "\n",
        "`\n",
        "const es6_sintax = number => console.log(number)\n",
        "`\n",
        "\n",
        "\n"
      ]
    },
    {
      "cell_type": "code",
      "metadata": {
        "id": "SLL9daQgGeK2",
        "outputId": "037bb47c-193b-4369-8545-bb20fbfda823",
        "colab": {
          "base_uri": "https://localhost:8080/",
          "height": 33
        }
      },
      "source": [
        "fruits = []\n",
        "fruits.append('Apple')\n",
        "fruits.append('Pinneapple')\n",
        "fruits.append('Kiwii')\n",
        "print(fruits)\n"
      ],
      "execution_count": 1,
      "outputs": [
        {
          "output_type": "stream",
          "text": [
            "['Apple', 'Pinneapple', 'Kiwii']\n"
          ],
          "name": "stdout"
        }
      ]
    },
    {
      "cell_type": "code",
      "metadata": {
        "id": "7m2GymVEHrMn"
      },
      "source": [
        "file = open('test_data.txt', 'wt')\n",
        "file.write('Hola inadaptados!!')\n",
        "file.close()"
      ],
      "execution_count": 4,
      "outputs": []
    }
  ]
}