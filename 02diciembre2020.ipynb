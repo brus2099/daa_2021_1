{
  "nbformat": 4,
  "nbformat_minor": 0,
  "metadata": {
    "colab": {
      "name": "02diciembre2020.ipynb",
      "provenance": [],
      "authorship_tag": "ABX9TyOOYle4K0lS79a2jh2lcNzb",
      "include_colab_link": true
    },
    "kernelspec": {
      "name": "python3",
      "display_name": "Python 3"
    }
  },
  "cells": [
    {
      "cell_type": "markdown",
      "metadata": {
        "id": "view-in-github",
        "colab_type": "text"
      },
      "source": [
        "<a href=\"https://colab.research.google.com/github/brus2099/daa_2021_1/blob/master/02diciembre2020.ipynb\" target=\"_parent\"><img src=\"https://colab.research.google.com/assets/colab-badge.svg\" alt=\"Open In Colab\"/></a>"
      ]
    },
    {
      "cell_type": "code",
      "metadata": {
        "id": "n6wN8cPOCOwg"
      },
      "source": [
        ""
      ],
      "execution_count": null,
      "outputs": []
    },
    {
      "cell_type": "markdown",
      "metadata": {
        "id": "A-lpo3feC64c"
      },
      "source": [
        "# RECURSIVIDAD"
      ]
    },
    {
      "cell_type": "code",
      "metadata": {
        "id": "4vcJ8ZWDC_L6"
      },
      "source": [
        "def fnRecInfinita():\n",
        "  print('Hola')\n",
        "  fnRecInfinita()"
      ],
      "execution_count": 1,
      "outputs": []
    },
    {
      "cell_type": "code",
      "metadata": {
        "id": "pMgD4FivDP_H"
      },
      "source": [
        "fnRecInfinita()"
      ],
      "execution_count": null,
      "outputs": []
    },
    {
      "cell_type": "code",
      "metadata": {
        "colab": {
          "base_uri": "https://localhost:8080/"
        },
        "id": "m-GwiZ0zDYfl",
        "outputId": "37243d0b-0c77-434a-e4cc-43ad1e319f5d"
      },
      "source": [
        "def fnRec(x):\n",
        "  if x == 0:\n",
        "    print('Stop')\n",
        "  else:\n",
        "    fnRec(x-1)\n",
        "    print(x)\n",
        "\n",
        "def main():\n",
        "  print(\"Program starts\")\n",
        "  fnRec(5)\n",
        "  print('Program ends')\n",
        "\n",
        "main()"
      ],
      "execution_count": 3,
      "outputs": [
        {
          "output_type": "stream",
          "text": [
            "Program starts\n",
            "Stop\n",
            "1\n",
            "2\n",
            "3\n",
            "4\n",
            "5\n",
            "Program ends\n"
          ],
          "name": "stdout"
        }
      ]
    },
    {
      "cell_type": "code",
      "metadata": {
        "colab": {
          "base_uri": "https://localhost:8080/"
        },
        "id": "qEfAgesQD8ca",
        "outputId": "e097b8b9-c81f-42ad-8d95-b2a55bc438b0"
      },
      "source": [
        "def printRev(x):\n",
        "  if x > 0:\n",
        "    print(x)\n",
        "    printRev(x-1)\n",
        "    print('End of stack in', x)\n",
        "\n",
        "printRev(3)"
      ],
      "execution_count": 7,
      "outputs": [
        {
          "output_type": "stream",
          "text": [
            "3\n",
            "2\n",
            "1\n",
            "End of stack in 1\n",
            "End of stack in 2\n",
            "End of stack in 3\n"
          ],
          "name": "stdout"
        }
      ]
    },
    {
      "cell_type": "code",
      "metadata": {
        "colab": {
          "base_uri": "https://localhost:8080/"
        },
        "id": "hhXSf2zQF1GV",
        "outputId": "6fb2622a-2734-40d1-a394-afc7e5078e18"
      },
      "source": [
        "def fibonacci(x):\n",
        "  if x == 1 or x == 0:\n",
        "    return x\n",
        "  else:\n",
        "    return ( fibonacci(x-1) + fibonacci(x-2) )\n",
        "  \n",
        "fibonacci(8)"
      ],
      "execution_count": 12,
      "outputs": [
        {
          "output_type": "execute_result",
          "data": {
            "text/plain": [
              "21"
            ]
          },
          "metadata": {
            "tags": []
          },
          "execution_count": 12
        }
      ]
    },
    {
      "cell_type": "code",
      "metadata": {
        "id": "B2kqzVwJKDRG"
      },
      "source": [
        ""
      ],
      "execution_count": null,
      "outputs": []
    }
  ]
}