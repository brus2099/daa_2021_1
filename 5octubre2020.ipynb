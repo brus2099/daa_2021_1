{
  "nbformat": 4,
  "nbformat_minor": 0,
  "metadata": {
    "colab": {
      "name": "5octubre2020.ipynb",
      "provenance": [],
      "authorship_tag": "ABX9TyNJzVsPhDXrgkm5AfD0im6b",
      "include_colab_link": true
    },
    "kernelspec": {
      "name": "python3",
      "display_name": "Python 3"
    }
  },
  "cells": [
    {
      "cell_type": "markdown",
      "metadata": {
        "id": "view-in-github",
        "colab_type": "text"
      },
      "source": [
        "<a href=\"https://colab.research.google.com/github/brus2099/daa_2021_1/blob/master/5octubre2020.ipynb\" target=\"_parent\"><img src=\"https://colab.research.google.com/assets/colab-badge.svg\" alt=\"Open In Colab\"/></a>"
      ]
    },
    {
      "cell_type": "markdown",
      "metadata": {
        "id": "yZ9jwUeFOjcZ"
      },
      "source": [
        "#Estructura de datos Pila (Stack)\n",
        "\n",
        "*   Last In First Out (LIFO)\n",
        "*   De tipo lineal\n",
        "*   Se pueden obtener e ingresar datos desde el tope\n",
        "*   push para agregar\n",
        "*   pop para sacar\n",
        "\n",
        "#Operaciones de las pilas \n",
        "\n",
        "1.   is_empty (regresa true o false)\n",
        "2.   get_top (regersa el elemento en el tope sin sacarlo)\n",
        "3.   poo (saca el elemento del tope y lo regresa)\n",
        "4.   push (mete un elemento en el tope)\n",
        "5.   get_length (regresa el numero de elementos de la pila)\n",
        "\n",
        "\n",
        "\n",
        "\n",
        "\n"
      ]
    },
    {
      "cell_type": "code",
      "metadata": {
        "id": "P0T73XsFFQdp"
      },
      "source": [
        "class Stack:\n",
        "  def __init__( self ):\n",
        "    self.__datos = []\n",
        "\n",
        "  def is_empty( self ):\n",
        "    return len(self.__datos) == 0\n",
        "\n",
        "  def get_top( self ):\n",
        "    return self.__datos[-1]\n",
        "\n",
        "  def pop( self ):\n",
        "    self.__datos.pop()\n",
        "\n",
        "  def push( self, valor ):\n",
        "    self.__datos.append(valor)\n",
        "\n",
        "  def get_length( self ):\n",
        "    return len(self.__datos)\n",
        "\n",
        "  def to_string( self ):\n",
        "    print('-----')\n",
        "    for ele in self.__datos[-1::-1]:\n",
        "      print(f' {ele} ')\n",
        "    print('-----')"
      ],
      "execution_count": 18,
      "outputs": []
    },
    {
      "cell_type": "code",
      "metadata": {
        "id": "6nzmy_5gGmpq",
        "outputId": "91e14a82-f89b-451a-bd50-ca5751bc3596",
        "colab": {
          "base_uri": "https://localhost:8080/",
          "height": 310
        }
      },
      "source": [
        "pila1 = Stack()\n",
        "pila1.push(5)\n",
        "pila1.push(7)\n",
        "pila1.push(5)\n",
        "pila1.push(9)\n",
        "pila1.push(13)\n",
        "pila1.push(73)\n",
        "pila1.to_string()\n",
        "\n",
        "pila1.pop()\n",
        "pila1.to_string()\n",
        "\n",
        "print(f'El tope es { pila1.get_top() }')\n",
        "print(f'La pila tiene {pila1.get_length()} elementos.')\n",
        "print(f'¿Pila vacia?: {pila1.is_empty()}')"
      ],
      "execution_count": 20,
      "outputs": [
        {
          "output_type": "stream",
          "text": [
            "-----\n",
            " 73 \n",
            " 13 \n",
            " 9 \n",
            " 5 \n",
            " 7 \n",
            " 5 \n",
            "-----\n",
            "-----\n",
            " 13 \n",
            " 9 \n",
            " 5 \n",
            " 7 \n",
            " 5 \n",
            "-----\n",
            "El tope es 13\n",
            "La pila tiene 5 elementos.\n",
            "¿Pila vacia?: False\n"
          ],
          "name": "stdout"
        }
      ]
    },
    {
      "cell_type": "markdown",
      "metadata": {
        "id": "6zPzbPHuMKFc"
      },
      "source": [
        "# Reglas\n",
        "### '(' ---> push('@')\n",
        "### ')' ---> pop()\n",
        "\n",
        "Si al final del recorrido la pila esta vacia, entonces la cadena es correcta. \n",
        "Si e un pop desencadena en querer sacar un elemento de la pila vacia, significa que la cadena no está balanceada.\n",
        "\n",
        "##HW:\n",
        "Hacer un programa que valide el balanceo de '( )' , '[ ]' y '{ }' en programas del lenguaje c y java"
      ]
    }
  ]
}