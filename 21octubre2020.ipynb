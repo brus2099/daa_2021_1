{
  "nbformat": 4,
  "nbformat_minor": 0,
  "metadata": {
    "colab": {
      "name": "21octubre2020.ipynb",
      "provenance": [],
      "authorship_tag": "ABX9TyOj0arX3bat+LEPjYPuJ6Dn",
      "include_colab_link": true
    },
    "kernelspec": {
      "name": "python3",
      "display_name": "Python 3"
    }
  },
  "cells": [
    {
      "cell_type": "markdown",
      "metadata": {
        "id": "view-in-github",
        "colab_type": "text"
      },
      "source": [
        "<a href=\"https://colab.research.google.com/github/brus2099/daa_2021_1/blob/master/21octubre2020.ipynb\" target=\"_parent\"><img src=\"https://colab.research.google.com/assets/colab-badge.svg\" alt=\"Open In Colab\"/></a>"
      ]
    },
    {
      "cell_type": "code",
      "metadata": {
        "id": "JqEpd5asQ4xI"
      },
      "source": [
        "from time import time"
      ],
      "execution_count": 2,
      "outputs": []
    },
    {
      "cell_type": "code",
      "metadata": {
        "id": "79gz3blTdC_0",
        "outputId": "e87396e2-5f09-47b6-9b56-86ab096d0e60",
        "colab": {
          "base_uri": "https://localhost:8080/",
          "height": 66
        }
      },
      "source": [
        "def ejemplo1( n ):\n",
        "    start_time = time()\n",
        "    c = n + 1\n",
        "    d = c * n\n",
        "    e = n * n\n",
        "    total = c + e - d\n",
        "    print(f\"total={ total }\")\n",
        "    elapsed_time = time() - start_time\n",
        "    print(\"Tiempo transcurrido: %0.10f segundos.\" % elapsed_time)\n",
        "\n",
        "print(ejemplo1( 99999999999 ))"
      ],
      "execution_count": 3,
      "outputs": [
        {
          "output_type": "stream",
          "text": [
            "total=1\n",
            "Tiempo transcurrido: 0.0005352497 segundos.\n",
            "None\n"
          ],
          "name": "stdout"
        }
      ]
    },
    {
      "cell_type": "code",
      "metadata": {
        "id": "ZOgBXCAza7jw",
        "outputId": "aedf7087-7130-4e6f-f4e5-ff827dc8f0ee",
        "colab": {
          "base_uri": "https://localhost:8080/",
          "height": 50
        }
      },
      "source": [
        "def ejemplo2( n ):\n",
        "    start_time = time()\n",
        "    contador = 0\n",
        "    for i in range( n ) :\n",
        "        for j in range( n ) :\n",
        "            contador += 1\n",
        "    elapsed_time = time() - start_time\n",
        "    print(\"Tiempo transcurrido: %0.10f segundos.\" % elapsed_time)\n",
        "    return contador\n",
        "\n",
        "ejemplo2( 10 )"
      ],
      "execution_count": 4,
      "outputs": [
        {
          "output_type": "stream",
          "text": [
            "Tiempo transcurrido: 0.0000126362 segundos.\n"
          ],
          "name": "stdout"
        },
        {
          "output_type": "execute_result",
          "data": {
            "text/plain": [
              "100"
            ]
          },
          "metadata": {
            "tags": []
          },
          "execution_count": 4
        }
      ]
    },
    {
      "cell_type": "code",
      "metadata": {
        "id": "9XcOmPmlfRsi",
        "outputId": "2f7381b2-3348-433f-b3d9-0ebe422d5d2e",
        "colab": {
          "base_uri": "https://localhost:8080/",
          "height": 50
        }
      },
      "source": [
        "def ejemplo3( n ): # n=4\n",
        "    start_time = time()\n",
        "    x = n * 2 # x = 8\n",
        "    y = 0   # y = 0\n",
        "    for m in range( 100 ): #3\n",
        "        y = x - n   # y = 4\n",
        "    elapsed_time = time() - start_time\n",
        "    print(\"Tiempo transcurrido: %0.10f segundos.\" % elapsed_time)\n",
        "    return y\n",
        "\n",
        "ejemplo3(99999999999)"
      ],
      "execution_count": 5,
      "outputs": [
        {
          "output_type": "stream",
          "text": [
            "Tiempo transcurrido: 0.0000078678 segundos.\n"
          ],
          "name": "stdout"
        },
        {
          "output_type": "execute_result",
          "data": {
            "text/plain": [
              "99999999999"
            ]
          },
          "metadata": {
            "tags": []
          },
          "execution_count": 5
        }
      ]
    },
    {
      "cell_type": "code",
      "metadata": {
        "id": "Uwl0bpd1fjqW",
        "outputId": "c91b38a9-3421-4b7e-b30e-b1f0e18c7da8",
        "colab": {
          "base_uri": "https://localhost:8080/",
          "height": 50
        }
      },
      "source": [
        "def ejemplo4( n ):\n",
        "    start_time = time()\n",
        "    x = 3 * 3.1416 + n\n",
        "    y = x + 3 * 3 - n\n",
        "    z = x + y\n",
        "    elapsed_time = time() - start_time\n",
        "    print(\"Tiempo transcurrido: %0.10f segundos.\" % elapsed_time)\n",
        "    return z\n",
        "\n",
        "ejemplo4(99990999999999)"
      ],
      "execution_count": 6,
      "outputs": [
        {
          "output_type": "stream",
          "text": [
            "Tiempo transcurrido: 0.0000023842 segundos.\n"
          ],
          "name": "stdout"
        },
        {
          "output_type": "execute_result",
          "data": {
            "text/plain": [
              "99991000000026.84"
            ]
          },
          "metadata": {
            "tags": []
          },
          "execution_count": 6
        }
      ]
    },
    {
      "cell_type": "code",
      "metadata": {
        "id": "RqMc9tikgD1F",
        "outputId": "09f1c7a4-58e6-429b-bde8-ee1487764d9d",
        "colab": {
          "base_uri": "https://localhost:8080/",
          "height": 50
        }
      },
      "source": [
        "def ejemplo5( x ):\n",
        "    start_time = time()\n",
        "    n = 10\n",
        "    for j in range( 0 , x , 1 ):\n",
        "        n = j + n\n",
        "    elapsed_time = time() - start_time\n",
        "    print(\"Tiempo transcurrido: %0.10f segundos.\" % elapsed_time)\n",
        "    return n\n",
        "\n",
        "ejemplo5(1000)"
      ],
      "execution_count": 7,
      "outputs": [
        {
          "output_type": "stream",
          "text": [
            "Tiempo transcurrido: 0.0001251698 segundos.\n"
          ],
          "name": "stdout"
        },
        {
          "output_type": "execute_result",
          "data": {
            "text/plain": [
              "499510"
            ]
          },
          "metadata": {
            "tags": []
          },
          "execution_count": 7
        }
      ]
    },
    {
      "cell_type": "code",
      "metadata": {
        "id": "EijZCc6oigM7",
        "outputId": "d05bc9c0-44a4-4bd0-a8ae-e0fe82968c0e",
        "colab": {
          "base_uri": "https://localhost:8080/",
          "height": 33
        }
      },
      "source": [
        "def ejemplo6( n ):\n",
        "    start_time = time()\n",
        "    data=[[[1 for x in range(n)] for x in range(n)]\n",
        "          for x in range(n)]\n",
        "    suma = 0\n",
        "    for d in range(n):\n",
        "        for r in range(n):\n",
        "            for c in range(n):\n",
        "                suma += data[d][r][c]\n",
        "    return suma\n",
        "print(ejemplo6( 10 ))"
      ],
      "execution_count": 19,
      "outputs": [
        {
          "output_type": "stream",
          "text": [
            "1000\n"
          ],
          "name": "stdout"
        }
      ]
    },
    {
      "cell_type": "code",
      "metadata": {
        "id": "CP8YfJ3FntPT",
        "outputId": "5a064261-b532-4cae-9fb8-a86ed91e3d2f",
        "colab": {
          "base_uri": "https://localhost:8080/",
          "height": 50
        }
      },
      "source": [
        "def ejemplo7( n ):\n",
        "    start_time = time()\n",
        "    data=[[[1 for x in range(n)] for x in range(n)] \n",
        "          for x in range(n)]\n",
        "    suma = 0\n",
        "    for d in range(n):\n",
        "        for r in range(n):\n",
        "            for c in range(n):\n",
        "                suma += data[d][r][c]\n",
        "    elapsed_time = time() - start_time\n",
        "    print(\"Tiempo transcurrido: %0.10f segundos.\" % elapsed_time)\n",
        "    return suma\n",
        "ejemplo7( 10 )"
      ],
      "execution_count": 9,
      "outputs": [
        {
          "output_type": "stream",
          "text": [
            "Tiempo transcurrido: 0.0001878738 segundos.\n"
          ],
          "name": "stdout"
        },
        {
          "output_type": "execute_result",
          "data": {
            "text/plain": [
              "1000"
            ]
          },
          "metadata": {
            "tags": []
          },
          "execution_count": 9
        }
      ]
    },
    {
      "cell_type": "code",
      "metadata": {
        "id": "iaYOu_sOR_CY",
        "outputId": "2437861d-8bf0-4d47-e98a-0547646acd5c",
        "colab": {
          "base_uri": "https://localhost:8080/",
          "height": 1000
        }
      },
      "source": [
        "for i in range(100, 1001, 100):\n",
        "  print(f'Para i = {i}')\n",
        "  print(ejemplo1(i))\n",
        "  print(ejemplo2(i))\n",
        "  print(ejemplo3(i))\n",
        "  print(ejemplo4(i))\n",
        "  print(ejemplo5(i))\n",
        "  print(ejemplo7(i))"
      ],
      "execution_count": 10,
      "outputs": [
        {
          "output_type": "stream",
          "text": [
            "Para i = 100\n",
            "total=1\n",
            "Tiempo transcurrido: 0.0000183582 segundos.\n",
            "None\n",
            "Tiempo transcurrido: 0.0021100044 segundos.\n",
            "10000\n",
            "Tiempo transcurrido: 0.0000081062 segundos.\n",
            "100\n",
            "Tiempo transcurrido: 0.0000021458 segundos.\n",
            "127.84960000000001\n",
            "Tiempo transcurrido: 0.0000100136 segundos.\n",
            "4960\n",
            "Tiempo transcurrido: 0.1840684414 segundos.\n",
            "1000000\n",
            "Para i = 200\n",
            "total=1\n",
            "Tiempo transcurrido: 0.0003910065 segundos.\n",
            "None\n",
            "Tiempo transcurrido: 0.0018148422 segundos.\n",
            "40000\n",
            "Tiempo transcurrido: 0.0000071526 segundos.\n",
            "200\n",
            "Tiempo transcurrido: 0.0000014305 segundos.\n",
            "227.8496\n",
            "Tiempo transcurrido: 0.0000176430 segundos.\n",
            "19910\n",
            "Tiempo transcurrido: 1.0035238266 segundos.\n",
            "8000000\n",
            "Para i = 300\n",
            "total=1\n",
            "Tiempo transcurrido: 0.0000236034 segundos.\n",
            "None\n",
            "Tiempo transcurrido: 0.0040938854 segundos.\n",
            "90000\n",
            "Tiempo transcurrido: 0.0000097752 segundos.\n",
            "300\n",
            "Tiempo transcurrido: 0.0000016689 segundos.\n",
            "327.8496\n",
            "Tiempo transcurrido: 0.0000276566 segundos.\n",
            "44860\n",
            "Tiempo transcurrido: 3.6255652905 segundos.\n",
            "27000000\n",
            "Para i = 400\n",
            "total=1\n",
            "Tiempo transcurrido: 0.0000329018 segundos.\n",
            "None\n",
            "Tiempo transcurrido: 0.0078244209 segundos.\n",
            "160000\n",
            "Tiempo transcurrido: 0.0000092983 segundos.\n",
            "400\n",
            "Tiempo transcurrido: 0.0000014305 segundos.\n",
            "427.8496\n",
            "Tiempo transcurrido: 0.0000319481 segundos.\n",
            "79810\n",
            "Tiempo transcurrido: 9.1459262371 segundos.\n",
            "64000000\n",
            "Para i = 500\n",
            "total=1\n",
            "Tiempo transcurrido: 0.0005202293 segundos.\n",
            "None\n",
            "Tiempo transcurrido: 0.0129072666 segundos.\n",
            "250000\n",
            "Tiempo transcurrido: 0.0000097752 segundos.\n",
            "500\n",
            "Tiempo transcurrido: 0.0000011921 segundos.\n",
            "527.8496\n",
            "Tiempo transcurrido: 0.0000412464 segundos.\n",
            "124760\n",
            "Tiempo transcurrido: 17.3288378716 segundos.\n",
            "125000000\n",
            "Para i = 600\n",
            "total=1\n",
            "Tiempo transcurrido: 0.0000691414 segundos.\n",
            "None\n",
            "Tiempo transcurrido: 0.0190458298 segundos.\n",
            "360000\n",
            "Tiempo transcurrido: 0.0000097752 segundos.\n",
            "600\n",
            "Tiempo transcurrido: 0.0000014305 segundos.\n",
            "627.8496\n",
            "Tiempo transcurrido: 0.0000483990 segundos.\n",
            "179710\n",
            "Tiempo transcurrido: 31.9725596905 segundos.\n",
            "216000000\n",
            "Para i = 700\n",
            "total=1\n",
            "Tiempo transcurrido: 0.0000250340 segundos.\n",
            "None\n",
            "Tiempo transcurrido: 0.0259954929 segundos.\n",
            "490000\n",
            "Tiempo transcurrido: 0.0000090599 segundos.\n",
            "700\n",
            "Tiempo transcurrido: 0.0000011921 segundos.\n",
            "727.8496\n",
            "Tiempo transcurrido: 0.0000636578 segundos.\n",
            "244660\n",
            "Tiempo transcurrido: 51.5834689140 segundos.\n",
            "343000000\n",
            "Para i = 800\n",
            "total=1\n",
            "Tiempo transcurrido: 0.0000245571 segundos.\n",
            "None\n",
            "Tiempo transcurrido: 0.0342545509 segundos.\n",
            "640000\n",
            "Tiempo transcurrido: 0.0000095367 segundos.\n",
            "800\n",
            "Tiempo transcurrido: 0.0000014305 segundos.\n",
            "827.8496\n",
            "Tiempo transcurrido: 0.0000808239 segundos.\n",
            "319610\n",
            "Tiempo transcurrido: 76.7249941826 segundos.\n",
            "512000000\n",
            "Para i = 900\n",
            "total=1\n",
            "Tiempo transcurrido: 0.0000243187 segundos.\n",
            "None\n",
            "Tiempo transcurrido: 0.0431203842 segundos.\n",
            "810000\n",
            "Tiempo transcurrido: 0.0000090599 segundos.\n",
            "900\n",
            "Tiempo transcurrido: 0.0000011921 segundos.\n",
            "927.8496\n",
            "Tiempo transcurrido: 0.0000576973 segundos.\n",
            "404560\n",
            "Tiempo transcurrido: 116.0159873962 segundos.\n",
            "729000000\n",
            "Para i = 1000\n",
            "total=1\n",
            "Tiempo transcurrido: 0.0000243187 segundos.\n",
            "None\n",
            "Tiempo transcurrido: 0.0528428555 segundos.\n",
            "1000000\n",
            "Tiempo transcurrido: 0.0000095367 segundos.\n",
            "1000\n",
            "Tiempo transcurrido: 0.0000011921 segundos.\n",
            "1027.8496\n",
            "Tiempo transcurrido: 0.0000615120 segundos.\n",
            "499510\n",
            "Tiempo transcurrido: 153.5706236362 segundos.\n",
            "1000000000\n"
          ],
          "name": "stdout"
        }
      ]
    }
  ]
}