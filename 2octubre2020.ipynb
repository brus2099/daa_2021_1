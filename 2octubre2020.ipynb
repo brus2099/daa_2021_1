{
  "nbformat": 4,
  "nbformat_minor": 0,
  "metadata": {
    "colab": {
      "name": "2octubre2020.ipynb",
      "provenance": [],
      "authorship_tag": "ABX9TyMUKOP7acZ6OgZt1YMrT46t",
      "include_colab_link": true
    },
    "kernelspec": {
      "name": "python3",
      "display_name": "Python 3"
    }
  },
  "cells": [
    {
      "cell_type": "markdown",
      "metadata": {
        "id": "view-in-github",
        "colab_type": "text"
      },
      "source": [
        "<a href=\"https://colab.research.google.com/github/brus2099/daa_2021_1/blob/master/2octubre2020.ipynb\" target=\"_parent\"><img src=\"https://colab.research.google.com/assets/colab-badge.svg\" alt=\"Open In Colab\"/></a>"
      ]
    },
    {
      "cell_type": "code",
      "metadata": {
        "id": "GsJuxfb2kEvy",
        "outputId": "fced2ee1-4b7e-4aef-a07c-0b6d0ef12b88",
        "colab": {
          "base_uri": "https://localhost:8080/",
          "height": 256
        }
      },
      "source": [
        "\n",
        "import pandas as pd\n",
        "\n",
        "df_2017 = pd.read_csv('2017Precip.csv', encoding='latin', header=1)\n",
        "dataset_2017 = []\n",
        "\n",
        "df_2018 = pd.read_csv('2017Precip.csv', encoding='latin', header=1)\n",
        "dataset_2018 = []\n",
        "\n",
        "\n",
        "for i in range(len(df_2017.index)):\n",
        "  dataset_2017.append([df_2017['ENTIDAD'][i], df_2017['ENE'][i], df_2017['FEB'][i], df_2017['MAR'][i], df_2017['ABR'][i], df_2017['MAY'][i], df_2017['JUN'][i], df_2017['JUL'][i], df_2017['AGO'][i], df_2017['SEP'][i], df_2017['OCT'][i], df_2017['NOV'][i], df_2017['DIC'][i], df_2017['ANUAL'][i]])\n",
        "\n",
        "for i in range(len(df_2018.index)):\n",
        "  dataset_2018.append([df_2018['ENTIDAD'][i], df_2018['ENE'][i], df_2018['FEB'][i], df_2018['MAR'][i], df_2018['ABR'][i], df_2018['MAY'][i], df_2018['JUN'][i], df_2018['JUL'][i], df_2018['AGO'][i], df_2018['SEP'][i], df_2018['OCT'][i], df_2018['NOV'][i], df_2018['DIC'][i], df_2018['ANUAL'][i]])\n",
        "\n",
        "anio = int(input('Year: '))\n",
        "estado = int(input('State: '))\n",
        "mes = int(input('Month: '))\n",
        "\n",
        "\n"
      ],
      "execution_count": 31,
      "outputs": [
        {
          "output_type": "stream",
          "text": [
            "Year: 2\n",
            "State: \n"
          ],
          "name": "stdout"
        },
        {
          "output_type": "error",
          "ename": "ValueError",
          "evalue": "ignored",
          "traceback": [
            "\u001b[0;31m---------------------------------------------------------------------------\u001b[0m",
            "\u001b[0;31mValueError\u001b[0m                                Traceback (most recent call last)",
            "\u001b[0;32m<ipython-input-31-33b81ae1a5bc>\u001b[0m in \u001b[0;36m<module>\u001b[0;34m()\u001b[0m\n\u001b[1;32m     16\u001b[0m \u001b[0;34m\u001b[0m\u001b[0m\n\u001b[1;32m     17\u001b[0m \u001b[0manio\u001b[0m \u001b[0;34m=\u001b[0m \u001b[0mint\u001b[0m\u001b[0;34m(\u001b[0m\u001b[0minput\u001b[0m\u001b[0;34m(\u001b[0m\u001b[0;34m'Year: '\u001b[0m\u001b[0;34m)\u001b[0m\u001b[0;34m)\u001b[0m\u001b[0;34m\u001b[0m\u001b[0;34m\u001b[0m\u001b[0m\n\u001b[0;32m---> 18\u001b[0;31m \u001b[0mestado\u001b[0m \u001b[0;34m=\u001b[0m \u001b[0mint\u001b[0m\u001b[0;34m(\u001b[0m\u001b[0minput\u001b[0m\u001b[0;34m(\u001b[0m\u001b[0;34m'State: '\u001b[0m\u001b[0;34m)\u001b[0m\u001b[0;34m)\u001b[0m\u001b[0;34m\u001b[0m\u001b[0;34m\u001b[0m\u001b[0m\n\u001b[0m\u001b[1;32m     19\u001b[0m \u001b[0mmes\u001b[0m \u001b[0;34m=\u001b[0m \u001b[0mint\u001b[0m\u001b[0;34m(\u001b[0m\u001b[0minput\u001b[0m\u001b[0;34m(\u001b[0m\u001b[0;34m'Month: '\u001b[0m\u001b[0;34m)\u001b[0m\u001b[0;34m)\u001b[0m\u001b[0;34m\u001b[0m\u001b[0;34m\u001b[0m\u001b[0m\n\u001b[1;32m     20\u001b[0m \u001b[0;34m\u001b[0m\u001b[0m\n",
            "\u001b[0;31mValueError\u001b[0m: invalid literal for int() with base 10: ''"
          ]
        }
      ]
    }
  ]
}