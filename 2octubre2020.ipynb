{
  "nbformat": 4,
  "nbformat_minor": 0,
  "metadata": {
    "colab": {
      "name": "2octubre2020.ipynb",
      "provenance": [],
      "authorship_tag": "ABX9TyMUKOP7acZ6OgZt1YMrT46t",
      "include_colab_link": true
    },
    "kernelspec": {
      "name": "python3",
      "display_name": "Python 3"
    }
  },
  "cells": [
    {
      "cell_type": "markdown",
      "metadata": {
        "id": "view-in-github",
        "colab_type": "text"
      },
      "source": [
        "<a href=\"https://colab.research.google.com/github/brus2099/daa_2021_1/blob/master/2octubre2020.ipynb\" target=\"_parent\"><img src=\"https://colab.research.google.com/assets/colab-badge.svg\" alt=\"Open In Colab\"/></a>"
      ]
    },
    {
      "cell_type": "code",
      "metadata": {
        "id": "GsJuxfb2kEvy",
        "outputId": "c90cfcc0-a96b-478a-ad1a-9eb8b44d5cba",
        "colab": {
          "base_uri": "https://localhost:8080/",
          "height": 1000
        }
      },
      "source": [
        "\n",
        "import pandas as pd\n",
        "\n",
        "df_2017 = pd.read_csv('2017Precip.csv', encoding='latin', header=1)\n",
        "dataset_2017 = []\n",
        "\n",
        "df_2018 = pd.read_csv('2017Precip.csv', encoding='latin', header=1)\n",
        "dataset_2018 = []\n",
        "\n",
        "\n",
        "for i in range(len(df_2017.index)):\n",
        "  dataset_2017.append([df_2017['ENTIDAD'][i], df_2017['ENE'][i], df_2017['FEB'][i], df_2017['MAR'][i], df_2017['ABR'][i], df_2017['MAY'][i], df_2017['JUN'][i], df_2017['JUL'][i], df_2017['AGO'][i], df_2017['SEP'][i], df_2017['OCT'][i], df_2017['NOV'][i], df_2017['DIC'][i], df_2017['ANUAL'][i]])\n",
        "\n",
        "for i in range(len(df_2018.index)):\n",
        "  dataset_2018.append([df_2018['ENTIDAD'][i], df_2018['ENE'][i], df_2018['FEB'][i], df_2018['MAR'][i], df_2018['ABR'][i], df_2018['MAY'][i], df_2018['JUN'][i], df_2018['JUL'][i], df_2018['AGO'][i], df_2018['SEP'][i], df_2018['OCT'][i], df_2018['NOV'][i], df_2018['DIC'][i], df_2018['ANUAL'][i]])\n",
        "\n",
        "anio = int(input('Year: '))\n",
        "estado = int(input('State: '))\n",
        "mes = int(input('Month: '))\n",
        "\n",
        "\n"
      ],
      "execution_count": 30,
      "outputs": [
        {
          "output_type": "stream",
          "text": [
            "                     0     1     2     3   ...     10    11    12        13\n",
            "0        AGUASCALIENTES   0.4   2.1   6.7  ...   21.8   0.1  27.6     579.4\n",
            "1       BAJA CALIFORNIA  53.6  44.9   1.4  ...    0.0   1.4   2.8     131.7\n",
            "2   BAJA CALIFORNIA SUR   8.4  18.4   0.5  ...    0.6   0.2   3.7     174.7\n",
            "3              CAMPECHE  16.1   6.9   9.1  ...  221.7  33.4  40.1  1,407.30\n",
            "4              COAHUILA   2.6  11.1  15.1  ...   15.2   1.9  35.6     358.5\n",
            "5                COLIMA   0.0   2.8   1.2  ...  142.7   0.1   7.3  1,728.80\n",
            "6               CHIAPAS  36.8   8.1  23.1  ...  228.8  37.9  18.4  1,994.00\n",
            "7             CHIHUAHUA  12.3   8.1   6.1  ...   14.4   1.7  42.7     453.8\n",
            "8      DISTRITO FEDERAL   0.0   0.0  18.1  ...   31.4   0.6   0.0       488\n",
            "9               DURANGO   1.3   7.8  13.3  ...   34.1   0.0  21.2     454.6\n",
            "10           GUANAJUATO   0.2   1.5  14.2  ...   14.6   0.3   0.4     611.5\n",
            "11             GUERRERO   0.2   0.2   2.1  ...   71.7   6.7   0.4  1,161.10\n",
            "12              HIDALGO   3.1   5.0  20.7  ...  109.6   4.9   6.9     653.2\n",
            "13              JALISCO   0.3   2.9   6.5  ...   59.4   0.9  19.8     946.1\n",
            "14     ESTADO DE MÉXICO   0.1   1.1  17.0  ...   53.0   3.3   0.1     865.4\n",
            "15            MICHOACAN   0.1   1.0  14.6  ...   50.2   0.4   0.3     792.8\n",
            "16              MORELOS   0.0   0.1  14.7  ...   81.7   0.0   0.0  1,949.50\n",
            "17              NAYARIT   0.5  11.0   1.5  ...  102.4   0.3  30.6  1,228.30\n",
            "18           NUEVO LEîN  10.2   7.4  50.6  ...   64.9   7.8  34.2       570\n",
            "19               OAXACA   6.1   5.7  16.4  ...  141.8  13.3   7.0  1,440.80\n",
            "20               PUEBLA   4.4   8.0  32.3  ...  114.8  12.0   7.9  1,402.30\n",
            "21            QUERTARO   0.7   2.0  20.9  ...   67.4   1.3   1.8     592.7\n",
            "22         QUINTANA ROO  30.5   9.5  25.6  ...  255.2  94.0  54.3  1,406.80\n",
            "23      SAN LUIS POTOSÍ   1.7   3.6  28.1  ...   85.8   1.4   9.1     617.7\n",
            "24              SINALOA   3.8  30.2   3.6  ...   49.0   0.1  17.6     698.8\n",
            "25               SONORA  41.6  31.3   0.5  ...    4.3   2.5  36.7     450.6\n",
            "26              TABASCO  84.3  32.4  61.1  ...  414.0  98.2  55.4  2,013.80\n",
            "27           TAMAULIPAS   8.3  14.9  57.9  ...  113.9  12.2  14.2     666.7\n",
            "28             TLAXCALA   0.4   0.4  19.4  ...   30.3   2.4   0.2     690.3\n",
            "29             VERACRUZ  36.9  32.6  65.4  ...  314.9  43.3  37.1  1,731.00\n",
            "30              YUCATÁN  19.5   2.1   7.5  ...  154.8  37.9  38.7  1,120.50\n",
            "31            ZACATECAS   0.4   1.3  18.8  ...   16.3   0.3  27.2     467.2\n",
            "32             NACIONAL  14.6  12.7  16.6  ...   77.0  10.7  24.4     781.6\n",
            "\n",
            "[33 rows x 14 columns]\n",
            "                     0     1     2     3   ...     10    11    12        13\n",
            "0        AGUASCALIENTES   0.4   2.1   6.7  ...   21.8   0.1  27.6     579.4\n",
            "1       BAJA CALIFORNIA  53.6  44.9   1.4  ...    0.0   1.4   2.8     131.7\n",
            "2   BAJA CALIFORNIA SUR   8.4  18.4   0.5  ...    0.6   0.2   3.7     174.7\n",
            "3              CAMPECHE  16.1   6.9   9.1  ...  221.7  33.4  40.1  1,407.30\n",
            "4              COAHUILA   2.6  11.1  15.1  ...   15.2   1.9  35.6     358.5\n",
            "5                COLIMA   0.0   2.8   1.2  ...  142.7   0.1   7.3  1,728.80\n",
            "6               CHIAPAS  36.8   8.1  23.1  ...  228.8  37.9  18.4  1,994.00\n",
            "7             CHIHUAHUA  12.3   8.1   6.1  ...   14.4   1.7  42.7     453.8\n",
            "8      DISTRITO FEDERAL   0.0   0.0  18.1  ...   31.4   0.6   0.0       488\n",
            "9               DURANGO   1.3   7.8  13.3  ...   34.1   0.0  21.2     454.6\n",
            "10           GUANAJUATO   0.2   1.5  14.2  ...   14.6   0.3   0.4     611.5\n",
            "11             GUERRERO   0.2   0.2   2.1  ...   71.7   6.7   0.4  1,161.10\n",
            "12              HIDALGO   3.1   5.0  20.7  ...  109.6   4.9   6.9     653.2\n",
            "13              JALISCO   0.3   2.9   6.5  ...   59.4   0.9  19.8     946.1\n",
            "14     ESTADO DE MÉXICO   0.1   1.1  17.0  ...   53.0   3.3   0.1     865.4\n",
            "15            MICHOACAN   0.1   1.0  14.6  ...   50.2   0.4   0.3     792.8\n",
            "16              MORELOS   0.0   0.1  14.7  ...   81.7   0.0   0.0  1,949.50\n",
            "17              NAYARIT   0.5  11.0   1.5  ...  102.4   0.3  30.6  1,228.30\n",
            "18           NUEVO LEîN  10.2   7.4  50.6  ...   64.9   7.8  34.2       570\n",
            "19               OAXACA   6.1   5.7  16.4  ...  141.8  13.3   7.0  1,440.80\n",
            "20               PUEBLA   4.4   8.0  32.3  ...  114.8  12.0   7.9  1,402.30\n",
            "21            QUERTARO   0.7   2.0  20.9  ...   67.4   1.3   1.8     592.7\n",
            "22         QUINTANA ROO  30.5   9.5  25.6  ...  255.2  94.0  54.3  1,406.80\n",
            "23      SAN LUIS POTOSÍ   1.7   3.6  28.1  ...   85.8   1.4   9.1     617.7\n",
            "24              SINALOA   3.8  30.2   3.6  ...   49.0   0.1  17.6     698.8\n",
            "25               SONORA  41.6  31.3   0.5  ...    4.3   2.5  36.7     450.6\n",
            "26              TABASCO  84.3  32.4  61.1  ...  414.0  98.2  55.4  2,013.80\n",
            "27           TAMAULIPAS   8.3  14.9  57.9  ...  113.9  12.2  14.2     666.7\n",
            "28             TLAXCALA   0.4   0.4  19.4  ...   30.3   2.4   0.2     690.3\n",
            "29             VERACRUZ  36.9  32.6  65.4  ...  314.9  43.3  37.1  1,731.00\n",
            "30              YUCATÁN  19.5   2.1   7.5  ...  154.8  37.9  38.7  1,120.50\n",
            "31            ZACATECAS   0.4   1.3  18.8  ...   16.3   0.3  27.2     467.2\n",
            "32             NACIONAL  14.6  12.7  16.6  ...   77.0  10.7  24.4     781.6\n",
            "\n",
            "[33 rows x 14 columns]\n"
          ],
          "name": "stdout"
        }
      ]
    }
  ]
}