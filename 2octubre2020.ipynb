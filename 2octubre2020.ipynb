
import pandas as pd

df_2017 = pd.read_csv('2017Precip.csv', encoding='latin', header=1)
dataset_2017 = []

df_2018 = pd.read_csv('2017Precip.csv', encoding='latin', header=1)
dataset_2018 = []


for i in range(len(df_2017.index)):
  dataset_2017.append([df_2017['ENTIDAD'][i], df_2017['ENE'][i], df_2017['FEB'][i], df_2017['MAR'][i], df_2017['ABR'][i], df_2017['MAY'][i], df_2017['JUN'][i], df_2017['JUL'][i], df_2017['AGO'][i], df_2017['SEP'][i], df_2017['OCT'][i], df_2017['NOV'][i], df_2017['DIC'][i], df_2017['ANUAL'][i]])

for i in range(len(df_2018.index)):
  dataset_2018.append([df_2018['ENTIDAD'][i], df_2018['ENE'][i], df_2018['FEB'][i], df_2018['MAR'][i], df_2018['ABR'][i], df_2018['MAY'][i], df_2018['JUN'][i], df_2018['JUL'][i], df_2018['AGO'][i], df_2018['SEP'][i], df_2018['OCT'][i], df_2018['NOV'][i], df_2018['DIC'][i], df_2018['ANUAL'][i]])

anio = int(input('Year: '))
estado = int(input('State: '))
mes = int(input('Month: '))

